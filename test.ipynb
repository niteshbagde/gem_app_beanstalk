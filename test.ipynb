{
 "cells": [
  {
   "cell_type": "code",
   "execution_count": 18,
   "metadata": {},
   "outputs": [],
   "source": [
    "requirements = \"../ML/requirements.txt\"\n",
    "def dependencies():\n",
    "    req_list=[]\n",
    "    with open(requirements,\"r\") as f:\n",
    "        dep_line = f.readlines()\n",
    "        for i in dep_line:\n",
    "            if i == \"-e .\":\n",
    "                pass\n",
    "            else:\n",
    "                req_list.append(i.replace(\"\\n\",\"\"))\n",
    "        return req_list\n",
    "    "
   ]
  },
  {
   "cell_type": "code",
   "execution_count": 19,
   "metadata": {},
   "outputs": [
    {
     "data": {
      "text/plain": [
       "['scikit-learn==0.24.2',\n",
       " 'numpy==1.21.2',\n",
       " 'pandas==1.3.3',\n",
       " 'matplotlib==3.4.3',\n",
       " 'seaborn==0.11.2',\n",
       " 'jupyterlab==3.1.10',\n",
       " 'tensorflow==2.6.0',\n",
       " 'torch==1.9.1',\n",
       " 'xgboost==1.5.0',\n",
       " 'lightgbm==3.2.1',\n",
       " 'opencv-python==4.5.3.56',\n",
       " 'scipy==1.7.1',\n",
       " 'joblib==1.1.0',\n",
       " 'flask==2.3.2']"
      ]
     },
     "execution_count": 19,
     "metadata": {},
     "output_type": "execute_result"
    }
   ],
   "source": [
    "dependencies()"
   ]
  },
  {
   "cell_type": "code",
   "execution_count": null,
   "metadata": {},
   "outputs": [],
   "source": []
  },
  {
   "cell_type": "code",
   "execution_count": null,
   "metadata": {},
   "outputs": [],
   "source": []
  },
  {
   "cell_type": "code",
   "execution_count": null,
   "metadata": {},
   "outputs": [],
   "source": []
  },
  {
   "cell_type": "code",
   "execution_count": null,
   "metadata": {},
   "outputs": [],
   "source": []
  },
  {
   "cell_type": "code",
   "execution_count": null,
   "metadata": {},
   "outputs": [],
   "source": []
  },
  {
   "cell_type": "code",
   "execution_count": null,
   "metadata": {},
   "outputs": [],
   "source": []
  }
 ],
 "metadata": {
  "kernelspec": {
   "display_name": "base",
   "language": "python",
   "name": "python3"
  },
  "language_info": {
   "codemirror_mode": {
    "name": "ipython",
    "version": 3
   },
   "file_extension": ".py",
   "mimetype": "text/x-python",
   "name": "python",
   "nbconvert_exporter": "python",
   "pygments_lexer": "ipython3",
   "version": "3.9.12"
  },
  "orig_nbformat": 4
 },
 "nbformat": 4,
 "nbformat_minor": 2
}
